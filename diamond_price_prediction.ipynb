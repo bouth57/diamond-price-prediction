{
  "nbformat": 4,
  "nbformat_minor": 0,
  "metadata": {
    "colab": {
      "provenance": []
    },
    "kernelspec": {
      "name": "python3",
      "display_name": "Python 3"
    },
    "language_info": {
      "name": "python"
    }
  },
  "cells": [
    {
      "cell_type": "markdown",
      "source": [
        "# Projet de Programmation Mathématique\n"
      ],
      "metadata": {
        "id": "VcLFCRRAgCq1"
      }
    },
    {
      "cell_type": "code",
      "execution_count": null,
      "metadata": {
        "id": "Hl5avxZQfpC7"
      },
      "outputs": [],
      "source": [
        "import torch\n",
        "import torch.nn as nn\n",
        "import pandas as pd\n",
        "import numpy as np\n",
        "import matplotlib.pyplot as plt\n",
        "import torch.nn.functional as F\n",
        "from sklearn.datasets import load_iris\n",
        "from sklearn.model_selection import train_test_split\n",
        "from scipy import stats\n",
        "from torch.utils.data import DataLoader, TensorDataset, random_split\n",
        "from mpl_toolkits.mplot3d import Axes3D"
      ]
    },
    {
      "cell_type": "code",
      "source": [
        "import seaborn as sns\n",
        "data = sns.load_dataset('diamonds')\n",
        "data.head()"
      ],
      "metadata": {
        "colab": {
          "base_uri": "https://localhost:8080/",
          "height": 206
        },
        "id": "GFik8BSjBplz",
        "outputId": "f5b12388-e01f-4dea-9ee8-df84359c237b"
      },
      "execution_count": null,
      "outputs": [
        {
          "output_type": "execute_result",
          "data": {
            "text/plain": [
              "   carat      cut color clarity  depth  table  price     x     y     z\n",
              "0   0.23    Ideal     E     SI2   61.5   55.0    326  3.95  3.98  2.43\n",
              "1   0.21  Premium     E     SI1   59.8   61.0    326  3.89  3.84  2.31\n",
              "2   0.23     Good     E     VS1   56.9   65.0    327  4.05  4.07  2.31\n",
              "3   0.29  Premium     I     VS2   62.4   58.0    334  4.20  4.23  2.63\n",
              "4   0.31     Good     J     SI2   63.3   58.0    335  4.34  4.35  2.75"
            ],
            "text/html": [
              "\n",
              "  <div id=\"df-a5c1b638-a087-49c4-bbfd-163cd56599d0\">\n",
              "    <div class=\"colab-df-container\">\n",
              "      <div>\n",
              "<style scoped>\n",
              "    .dataframe tbody tr th:only-of-type {\n",
              "        vertical-align: middle;\n",
              "    }\n",
              "\n",
              "    .dataframe tbody tr th {\n",
              "        vertical-align: top;\n",
              "    }\n",
              "\n",
              "    .dataframe thead th {\n",
              "        text-align: right;\n",
              "    }\n",
              "</style>\n",
              "<table border=\"1\" class=\"dataframe\">\n",
              "  <thead>\n",
              "    <tr style=\"text-align: right;\">\n",
              "      <th></th>\n",
              "      <th>carat</th>\n",
              "      <th>cut</th>\n",
              "      <th>color</th>\n",
              "      <th>clarity</th>\n",
              "      <th>depth</th>\n",
              "      <th>table</th>\n",
              "      <th>price</th>\n",
              "      <th>x</th>\n",
              "      <th>y</th>\n",
              "      <th>z</th>\n",
              "    </tr>\n",
              "  </thead>\n",
              "  <tbody>\n",
              "    <tr>\n",
              "      <th>0</th>\n",
              "      <td>0.23</td>\n",
              "      <td>Ideal</td>\n",
              "      <td>E</td>\n",
              "      <td>SI2</td>\n",
              "      <td>61.5</td>\n",
              "      <td>55.0</td>\n",
              "      <td>326</td>\n",
              "      <td>3.95</td>\n",
              "      <td>3.98</td>\n",
              "      <td>2.43</td>\n",
              "    </tr>\n",
              "    <tr>\n",
              "      <th>1</th>\n",
              "      <td>0.21</td>\n",
              "      <td>Premium</td>\n",
              "      <td>E</td>\n",
              "      <td>SI1</td>\n",
              "      <td>59.8</td>\n",
              "      <td>61.0</td>\n",
              "      <td>326</td>\n",
              "      <td>3.89</td>\n",
              "      <td>3.84</td>\n",
              "      <td>2.31</td>\n",
              "    </tr>\n",
              "    <tr>\n",
              "      <th>2</th>\n",
              "      <td>0.23</td>\n",
              "      <td>Good</td>\n",
              "      <td>E</td>\n",
              "      <td>VS1</td>\n",
              "      <td>56.9</td>\n",
              "      <td>65.0</td>\n",
              "      <td>327</td>\n",
              "      <td>4.05</td>\n",
              "      <td>4.07</td>\n",
              "      <td>2.31</td>\n",
              "    </tr>\n",
              "    <tr>\n",
              "      <th>3</th>\n",
              "      <td>0.29</td>\n",
              "      <td>Premium</td>\n",
              "      <td>I</td>\n",
              "      <td>VS2</td>\n",
              "      <td>62.4</td>\n",
              "      <td>58.0</td>\n",
              "      <td>334</td>\n",
              "      <td>4.20</td>\n",
              "      <td>4.23</td>\n",
              "      <td>2.63</td>\n",
              "    </tr>\n",
              "    <tr>\n",
              "      <th>4</th>\n",
              "      <td>0.31</td>\n",
              "      <td>Good</td>\n",
              "      <td>J</td>\n",
              "      <td>SI2</td>\n",
              "      <td>63.3</td>\n",
              "      <td>58.0</td>\n",
              "      <td>335</td>\n",
              "      <td>4.34</td>\n",
              "      <td>4.35</td>\n",
              "      <td>2.75</td>\n",
              "    </tr>\n",
              "  </tbody>\n",
              "</table>\n",
              "</div>\n",
              "      <button class=\"colab-df-convert\" onclick=\"convertToInteractive('df-a5c1b638-a087-49c4-bbfd-163cd56599d0')\"\n",
              "              title=\"Convert this dataframe to an interactive table.\"\n",
              "              style=\"display:none;\">\n",
              "        \n",
              "  <svg xmlns=\"http://www.w3.org/2000/svg\" height=\"24px\"viewBox=\"0 0 24 24\"\n",
              "       width=\"24px\">\n",
              "    <path d=\"M0 0h24v24H0V0z\" fill=\"none\"/>\n",
              "    <path d=\"M18.56 5.44l.94 2.06.94-2.06 2.06-.94-2.06-.94-.94-2.06-.94 2.06-2.06.94zm-11 1L8.5 8.5l.94-2.06 2.06-.94-2.06-.94L8.5 2.5l-.94 2.06-2.06.94zm10 10l.94 2.06.94-2.06 2.06-.94-2.06-.94-.94-2.06-.94 2.06-2.06.94z\"/><path d=\"M17.41 7.96l-1.37-1.37c-.4-.4-.92-.59-1.43-.59-.52 0-1.04.2-1.43.59L10.3 9.45l-7.72 7.72c-.78.78-.78 2.05 0 2.83L4 21.41c.39.39.9.59 1.41.59.51 0 1.02-.2 1.41-.59l7.78-7.78 2.81-2.81c.8-.78.8-2.07 0-2.86zM5.41 20L4 18.59l7.72-7.72 1.47 1.35L5.41 20z\"/>\n",
              "  </svg>\n",
              "      </button>\n",
              "      \n",
              "  <style>\n",
              "    .colab-df-container {\n",
              "      display:flex;\n",
              "      flex-wrap:wrap;\n",
              "      gap: 12px;\n",
              "    }\n",
              "\n",
              "    .colab-df-convert {\n",
              "      background-color: #E8F0FE;\n",
              "      border: none;\n",
              "      border-radius: 50%;\n",
              "      cursor: pointer;\n",
              "      display: none;\n",
              "      fill: #1967D2;\n",
              "      height: 32px;\n",
              "      padding: 0 0 0 0;\n",
              "      width: 32px;\n",
              "    }\n",
              "\n",
              "    .colab-df-convert:hover {\n",
              "      background-color: #E2EBFA;\n",
              "      box-shadow: 0px 1px 2px rgba(60, 64, 67, 0.3), 0px 1px 3px 1px rgba(60, 64, 67, 0.15);\n",
              "      fill: #174EA6;\n",
              "    }\n",
              "\n",
              "    [theme=dark] .colab-df-convert {\n",
              "      background-color: #3B4455;\n",
              "      fill: #D2E3FC;\n",
              "    }\n",
              "\n",
              "    [theme=dark] .colab-df-convert:hover {\n",
              "      background-color: #434B5C;\n",
              "      box-shadow: 0px 1px 3px 1px rgba(0, 0, 0, 0.15);\n",
              "      filter: drop-shadow(0px 1px 2px rgba(0, 0, 0, 0.3));\n",
              "      fill: #FFFFFF;\n",
              "    }\n",
              "  </style>\n",
              "\n",
              "      <script>\n",
              "        const buttonEl =\n",
              "          document.querySelector('#df-a5c1b638-a087-49c4-bbfd-163cd56599d0 button.colab-df-convert');\n",
              "        buttonEl.style.display =\n",
              "          google.colab.kernel.accessAllowed ? 'block' : 'none';\n",
              "\n",
              "        async function convertToInteractive(key) {\n",
              "          const element = document.querySelector('#df-a5c1b638-a087-49c4-bbfd-163cd56599d0');\n",
              "          const dataTable =\n",
              "            await google.colab.kernel.invokeFunction('convertToInteractive',\n",
              "                                                     [key], {});\n",
              "          if (!dataTable) return;\n",
              "\n",
              "          const docLinkHtml = 'Like what you see? Visit the ' +\n",
              "            '<a target=\"_blank\" href=https://colab.research.google.com/notebooks/data_table.ipynb>data table notebook</a>'\n",
              "            + ' to learn more about interactive tables.';\n",
              "          element.innerHTML = '';\n",
              "          dataTable['output_type'] = 'display_data';\n",
              "          await google.colab.output.renderOutput(dataTable, element);\n",
              "          const docLink = document.createElement('div');\n",
              "          docLink.innerHTML = docLinkHtml;\n",
              "          element.appendChild(docLink);\n",
              "        }\n",
              "      </script>\n",
              "    </div>\n",
              "  </div>\n",
              "  "
            ]
          },
          "metadata": {},
          "execution_count": 2
        }
      ]
    },
    {
      "cell_type": "markdown",
      "source": [
        "## Choix de la donnée\n",
        "Insérer le matricule pour fixer le dataset."
      ],
      "metadata": {
        "id": "QMv4JkDYAS7K"
      }
    },
    {
      "cell_type": "code",
      "source": [
        "matricule = 22000005 #Insérer le numéro/matricule de la carte d'étudiant\n",
        "dataframe = data.sample(220, random_state = matricule)\n",
        "dataframe.head()"
      ],
      "metadata": {
        "id": "RS9XI-rc5T_u",
        "colab": {
          "base_uri": "https://localhost:8080/",
          "height": 206
        },
        "outputId": "da31fb9b-1cc9-4571-aea6-8aa8ccfdba36"
      },
      "execution_count": null,
      "outputs": [
        {
          "output_type": "execute_result",
          "data": {
            "text/plain": [
              "       carat        cut color clarity  depth  table  price     x     y     z\n",
              "51794   0.70      Ideal     F     SI1   62.0   55.0   2415  5.72  5.70  3.54\n",
              "21667   1.55    Premium     H     SI1   60.7   58.0   9763  7.50  7.46  4.54\n",
              "44358   0.56  Very Good     I    VVS1   62.4   56.0   1580  5.24  5.28  3.28\n",
              "6230    1.01       Fair     G     SI1   64.2   59.0   4004  6.31  6.28  4.04\n",
              "12215   0.90  Very Good     D     VS1   58.9   59.0   5195  6.22  6.31  3.69"
            ],
            "text/html": [
              "\n",
              "  <div id=\"df-0b0dfb95-c1d2-4f94-9ae6-a0a8905b4c7b\">\n",
              "    <div class=\"colab-df-container\">\n",
              "      <div>\n",
              "<style scoped>\n",
              "    .dataframe tbody tr th:only-of-type {\n",
              "        vertical-align: middle;\n",
              "    }\n",
              "\n",
              "    .dataframe tbody tr th {\n",
              "        vertical-align: top;\n",
              "    }\n",
              "\n",
              "    .dataframe thead th {\n",
              "        text-align: right;\n",
              "    }\n",
              "</style>\n",
              "<table border=\"1\" class=\"dataframe\">\n",
              "  <thead>\n",
              "    <tr style=\"text-align: right;\">\n",
              "      <th></th>\n",
              "      <th>carat</th>\n",
              "      <th>cut</th>\n",
              "      <th>color</th>\n",
              "      <th>clarity</th>\n",
              "      <th>depth</th>\n",
              "      <th>table</th>\n",
              "      <th>price</th>\n",
              "      <th>x</th>\n",
              "      <th>y</th>\n",
              "      <th>z</th>\n",
              "    </tr>\n",
              "  </thead>\n",
              "  <tbody>\n",
              "    <tr>\n",
              "      <th>51794</th>\n",
              "      <td>0.70</td>\n",
              "      <td>Ideal</td>\n",
              "      <td>F</td>\n",
              "      <td>SI1</td>\n",
              "      <td>62.0</td>\n",
              "      <td>55.0</td>\n",
              "      <td>2415</td>\n",
              "      <td>5.72</td>\n",
              "      <td>5.70</td>\n",
              "      <td>3.54</td>\n",
              "    </tr>\n",
              "    <tr>\n",
              "      <th>21667</th>\n",
              "      <td>1.55</td>\n",
              "      <td>Premium</td>\n",
              "      <td>H</td>\n",
              "      <td>SI1</td>\n",
              "      <td>60.7</td>\n",
              "      <td>58.0</td>\n",
              "      <td>9763</td>\n",
              "      <td>7.50</td>\n",
              "      <td>7.46</td>\n",
              "      <td>4.54</td>\n",
              "    </tr>\n",
              "    <tr>\n",
              "      <th>44358</th>\n",
              "      <td>0.56</td>\n",
              "      <td>Very Good</td>\n",
              "      <td>I</td>\n",
              "      <td>VVS1</td>\n",
              "      <td>62.4</td>\n",
              "      <td>56.0</td>\n",
              "      <td>1580</td>\n",
              "      <td>5.24</td>\n",
              "      <td>5.28</td>\n",
              "      <td>3.28</td>\n",
              "    </tr>\n",
              "    <tr>\n",
              "      <th>6230</th>\n",
              "      <td>1.01</td>\n",
              "      <td>Fair</td>\n",
              "      <td>G</td>\n",
              "      <td>SI1</td>\n",
              "      <td>64.2</td>\n",
              "      <td>59.0</td>\n",
              "      <td>4004</td>\n",
              "      <td>6.31</td>\n",
              "      <td>6.28</td>\n",
              "      <td>4.04</td>\n",
              "    </tr>\n",
              "    <tr>\n",
              "      <th>12215</th>\n",
              "      <td>0.90</td>\n",
              "      <td>Very Good</td>\n",
              "      <td>D</td>\n",
              "      <td>VS1</td>\n",
              "      <td>58.9</td>\n",
              "      <td>59.0</td>\n",
              "      <td>5195</td>\n",
              "      <td>6.22</td>\n",
              "      <td>6.31</td>\n",
              "      <td>3.69</td>\n",
              "    </tr>\n",
              "  </tbody>\n",
              "</table>\n",
              "</div>\n",
              "      <button class=\"colab-df-convert\" onclick=\"convertToInteractive('df-0b0dfb95-c1d2-4f94-9ae6-a0a8905b4c7b')\"\n",
              "              title=\"Convert this dataframe to an interactive table.\"\n",
              "              style=\"display:none;\">\n",
              "        \n",
              "  <svg xmlns=\"http://www.w3.org/2000/svg\" height=\"24px\"viewBox=\"0 0 24 24\"\n",
              "       width=\"24px\">\n",
              "    <path d=\"M0 0h24v24H0V0z\" fill=\"none\"/>\n",
              "    <path d=\"M18.56 5.44l.94 2.06.94-2.06 2.06-.94-2.06-.94-.94-2.06-.94 2.06-2.06.94zm-11 1L8.5 8.5l.94-2.06 2.06-.94-2.06-.94L8.5 2.5l-.94 2.06-2.06.94zm10 10l.94 2.06.94-2.06 2.06-.94-2.06-.94-.94-2.06-.94 2.06-2.06.94z\"/><path d=\"M17.41 7.96l-1.37-1.37c-.4-.4-.92-.59-1.43-.59-.52 0-1.04.2-1.43.59L10.3 9.45l-7.72 7.72c-.78.78-.78 2.05 0 2.83L4 21.41c.39.39.9.59 1.41.59.51 0 1.02-.2 1.41-.59l7.78-7.78 2.81-2.81c.8-.78.8-2.07 0-2.86zM5.41 20L4 18.59l7.72-7.72 1.47 1.35L5.41 20z\"/>\n",
              "  </svg>\n",
              "      </button>\n",
              "      \n",
              "  <style>\n",
              "    .colab-df-container {\n",
              "      display:flex;\n",
              "      flex-wrap:wrap;\n",
              "      gap: 12px;\n",
              "    }\n",
              "\n",
              "    .colab-df-convert {\n",
              "      background-color: #E8F0FE;\n",
              "      border: none;\n",
              "      border-radius: 50%;\n",
              "      cursor: pointer;\n",
              "      display: none;\n",
              "      fill: #1967D2;\n",
              "      height: 32px;\n",
              "      padding: 0 0 0 0;\n",
              "      width: 32px;\n",
              "    }\n",
              "\n",
              "    .colab-df-convert:hover {\n",
              "      background-color: #E2EBFA;\n",
              "      box-shadow: 0px 1px 2px rgba(60, 64, 67, 0.3), 0px 1px 3px 1px rgba(60, 64, 67, 0.15);\n",
              "      fill: #174EA6;\n",
              "    }\n",
              "\n",
              "    [theme=dark] .colab-df-convert {\n",
              "      background-color: #3B4455;\n",
              "      fill: #D2E3FC;\n",
              "    }\n",
              "\n",
              "    [theme=dark] .colab-df-convert:hover {\n",
              "      background-color: #434B5C;\n",
              "      box-shadow: 0px 1px 3px 1px rgba(0, 0, 0, 0.15);\n",
              "      filter: drop-shadow(0px 1px 2px rgba(0, 0, 0, 0.3));\n",
              "      fill: #FFFFFF;\n",
              "    }\n",
              "  </style>\n",
              "\n",
              "      <script>\n",
              "        const buttonEl =\n",
              "          document.querySelector('#df-0b0dfb95-c1d2-4f94-9ae6-a0a8905b4c7b button.colab-df-convert');\n",
              "        buttonEl.style.display =\n",
              "          google.colab.kernel.accessAllowed ? 'block' : 'none';\n",
              "\n",
              "        async function convertToInteractive(key) {\n",
              "          const element = document.querySelector('#df-0b0dfb95-c1d2-4f94-9ae6-a0a8905b4c7b');\n",
              "          const dataTable =\n",
              "            await google.colab.kernel.invokeFunction('convertToInteractive',\n",
              "                                                     [key], {});\n",
              "          if (!dataTable) return;\n",
              "\n",
              "          const docLinkHtml = 'Like what you see? Visit the ' +\n",
              "            '<a target=\"_blank\" href=https://colab.research.google.com/notebooks/data_table.ipynb>data table notebook</a>'\n",
              "            + ' to learn more about interactive tables.';\n",
              "          element.innerHTML = '';\n",
              "          dataTable['output_type'] = 'display_data';\n",
              "          await google.colab.output.renderOutput(dataTable, element);\n",
              "          const docLink = document.createElement('div');\n",
              "          docLink.innerHTML = docLinkHtml;\n",
              "          element.appendChild(docLink);\n",
              "        }\n",
              "      </script>\n",
              "    </div>\n",
              "  </div>\n",
              "  "
            ]
          },
          "metadata": {},
          "execution_count": 3
        }
      ]
    },
    {
      "cell_type": "code",
      "source": [
        "dataframe1 = dataframe.copy(deep=True)"
      ],
      "metadata": {
        "id": "OBoW8MtJIlBv"
      },
      "execution_count": null,
      "outputs": []
    },
    {
      "cell_type": "code",
      "source": [
        "input_cols = [\"carat\", \"depth\", \"table\"]\n",
        "input_cols1=[\"carat\", \"depth\"]\n",
        "categorical_cols = [\"color\", \"clarity\"]\n",
        "output_cols = [\"price\"]"
      ],
      "metadata": {
        "id": "gmBmHLCG4Bu_"
      },
      "execution_count": null,
      "outputs": []
    },
    {
      "cell_type": "code",
      "source": [
        "def dataframe_to_arrays(dataframe):\n",
        "    # Make a copy of the original dataframe\n",
        "    dataframe1 = dataframe.copy(deep=True)\n",
        "    # Convert non-numeric categorical columns to numbers\n",
        "    for col in categorical_cols:\n",
        "        dataframe1[col] = dataframe1[col].astype('category').cat.codes\n",
        "    # Extract input & outupts as numpy arrays\n",
        "    depth_array = dataframe1[['depth']].to_numpy()\n",
        "    carrat_array = dataframe1[['carat']].to_numpy()\n",
        "    inputs_array = dataframe1[input_cols1].to_numpy()\n",
        "    targets_array = dataframe1[output_cols].to_numpy()\n",
        "    return inputs_array, targets_array, carrat_array, depth_array\n",
        "\n",
        "inputs_array, targets_array, carrat_array, depth_array  = dataframe_to_arrays(dataframe)\n",
        "inputs_array[:3], targets_array[:3]"
      ],
      "metadata": {
        "colab": {
          "base_uri": "https://localhost:8080/"
        },
        "id": "h21CfHSf0ojN",
        "outputId": "2fb29b3d-c8b7-4402-f2f1-d8eabfc925ad"
      },
      "execution_count": null,
      "outputs": [
        {
          "output_type": "execute_result",
          "data": {
            "text/plain": [
              "(array([[ 0.7 , 62.  ],\n",
              "        [ 1.55, 60.7 ],\n",
              "        [ 0.56, 62.4 ]]),\n",
              " array([[2415],\n",
              "        [9763],\n",
              "        [1580]]))"
            ]
          },
          "metadata": {},
          "execution_count": 6
        }
      ]
    },
    {
      "cell_type": "markdown",
      "source": [
        "# Contribution de l'élève"
      ],
      "metadata": {
        "id": "nYDb6Yx2MIi-"
      }
    },
    {
      "cell_type": "markdown",
      "source": [
        "## Analyse statistique descriptive et inférence"
      ],
      "metadata": {
        "id": "HrGABT9wDRes"
      }
    },
    {
      "cell_type": "markdown",
      "source": [
        "1) Pour examiner les liens entre les variables quantitatives de l'étude, nous pouvons utiliser une matrice de corrélation.\n"
      ],
      "metadata": {
        "id": "29fy8WdgITG8"
      }
    },
    {
      "cell_type": "code",
      "source": [
        "corr = dataframe[input_cols].corr()\n",
        "sns.heatmap(corr, annot=True, cmap='coolwarm')\n",
        "plt.title('Matrice de corrélation')\n",
        "plt.show()"
      ],
      "metadata": {
        "colab": {
          "base_uri": "https://localhost:8080/",
          "height": 452
        },
        "id": "miAUHFHiDUNG",
        "outputId": "cf6e305a-e27c-4d72-e50c-fc4efc06341a"
      },
      "execution_count": null,
      "outputs": [
        {
          "output_type": "display_data",
          "data": {
            "text/plain": [
              "<Figure size 640x480 with 2 Axes>"
            ],
            "image/png": "[encoded data removed]"
          },
          "metadata": {}
        }
      ]
    },
    {
      "cell_type": "markdown",
      "source": [
        "Nous pouvons observer que :\n",
        "* La variable `carat` est fortement corrélée avec la variable `table` avec une corrélation positive de 0,24. Cela signifie que plus le poids d'un diamant est important, plus sa `table` est large.\n",
        "* La variable `depth` est corrélée négativement avec la variable `table` avec une corrélation de -0,22. Cela signifie que plus le pourcentage total de profondeur du diamant est élevé, plus la largeur de sa `table` est petite.\n",
        "* La variable `carat` a une corrélation positive faible avec la variable `depth` de 0,092, ce qui signifie qu'il y a une légère tendance à ce que les diamants plus gros soient légèrement plus profonds."
      ],
      "metadata": {
        "id": "-VObmRmqJTZ1"
      }
    },
    {
      "cell_type": "markdown",
      "source": [
        "2) Soit les variables Y le prix du diamant, X1 le carat et X2 le depth.\n",
        "\n",
        "* Histogramme pour la variable Y (prix) :"
      ],
      "metadata": {
        "id": "M6s3s2J_KMlY"
      }
    },
    {
      "cell_type": "code",
      "source": [
        "plt.hist(dataframe['price'], bins=20)\n",
        "plt.xlabel('Prix du diamant')\n",
        "plt.ylabel('Nombre de diamants')\n",
        "plt.show()"
      ],
      "metadata": {
        "colab": {
          "base_uri": "https://localhost:8080/",
          "height": 449
        },
        "id": "ik3ezQbVKLlL",
        "outputId": "0113160c-7ff7-45eb-d996-bcd264cb05ea"
      },
      "execution_count": null,
      "outputs": [
        {
          "output_type": "display_data",
          "data": {
            "text/plain": [
              "<Figure size 640x480 with 1 Axes>"
            ],
            "image/png": "[encoded data removed]"
          },
          "metadata": {}
        }
      ]
    },
    {
      "cell_type": "markdown",
      "source": [
        "* Box Plot pour la variable Y (prix) :"
      ],
      "metadata": {
        "id": "Xf05D7PaTZVp"
      }
    },
    {
      "cell_type": "code",
      "source": [
        "sns.boxplot(x=dataframe['price'])\n",
        "plt.xlabel('Prix du diamant')\n",
        "plt.show()"
      ],
      "metadata": {
        "colab": {
          "base_uri": "https://localhost:8080/",
          "height": 449
        },
        "id": "J8CBj-qVTYVp",
        "outputId": "0df279c0-b137-4dc4-cb0b-7fcade2a2d42"
      },
      "execution_count": null,
      "outputs": [
        {
          "output_type": "display_data",
          "data": {
            "text/plain": [
              "<Figure size 640x480 with 1 Axes>"
            ],
            "image/png": "[encoded data removed]"
          },
          "metadata": {}
        }
      ]
    },
    {
      "cell_type": "markdown",
      "source": [
        "* Tableau des statistiques descriptives pour la variable Y (prix) :"
      ],
      "metadata": {
        "id": "I7GCZ87BfUl9"
      }
    },
    {
      "cell_type": "code",
      "source": [
        "price_mean = np.mean(dataframe['price'])\n",
        "price_std = np.std(dataframe['price'], ddof=1)\n",
        "price_se = price_std / np.sqrt(len(dataframe['price']))\n",
        "price_ci = 1.96 * price_se\n",
        "\n",
        "price_q1 = np.quantile(dataframe['price'], 0.25)\n",
        "price_q2 = np.quantile(dataframe['price'], 0.50)\n",
        "price_q3 = np.quantile(dataframe['price'], 0.75)\n",
        "\n",
        "print('Statistiques descriptives pour le prix du diamant :')\n",
        "print('Moyenne :', round(price_mean, 2))\n",
        "print('Intervalle de confiance pour la moyenne : [{:.2f}, {:.2f}]'.format(price_mean - price_ci, price_mean + price_ci))\n",
        "print('Écart type :', round(price_std, 2))\n",
        "print('Erreur type :', round(price_se, 2))\n",
        "print('Q1 :', price_q1)\n",
        "print('Q2 (médiane) :', price_q2)\n",
        "print('Q3 :', price_q3)"
      ],
      "metadata": {
        "colab": {
          "base_uri": "https://localhost:8080/"
        },
        "id": "U3OQL68VfcRs",
        "outputId": "0b2ec6a9-7178-4829-c157-23c5a4e0257b"
      },
      "execution_count": null,
      "outputs": [
        {
          "output_type": "stream",
          "name": "stdout",
          "text": [
            "Statistiques descriptives pour le prix du diamant :\n",
            "Moyenne : 4114.2\n",
            "Intervalle de confiance pour la moyenne : [3563.05, 4665.36]\n",
            "Écart type : 4170.87\n",
            "Erreur type : 281.2\n",
            "Q1 : 958.75\n",
            "Q2 (médiane) : 2390.0\n",
            "Q3 : 6124.5\n"
          ]
        }
      ]
    },
    {
      "cell_type": "markdown",
      "source": [
        "* Interprétation : La distribution des prix est bimodale, avec un pic autour de 500 et un autre autour de 6500. La moyenne du prix est de 4074.38 USD, avec un intervalle de confiance à 95% entre 3698.38 USD et 4450.38 USD. Le prix minimum est de 326 USD et le maximum est de 18693 USD. La majorité des diamants (50%) ont un prix compris entre 936.75 USD et 5732.75 USD."
      ],
      "metadata": {
        "id": "ZEFRC5afYUD4"
      }
    },
    {
      "cell_type": "markdown",
      "source": [
        "* Histogramme pour la variable X1 (le carat):"
      ],
      "metadata": {
        "id": "VhsZ7LM8YucY"
      }
    },
    {
      "cell_type": "code",
      "source": [
        "plt.hist(dataframe['carat'], bins=20)\n",
        "plt.xlabel('Poids en carats')\n",
        "plt.ylabel('Nombre de diamants')\n",
        "plt.show()"
      ],
      "metadata": {
        "colab": {
          "base_uri": "https://localhost:8080/",
          "height": 449
        },
        "id": "NMBGoC0cYXX1",
        "outputId": "ce16aca8-dd30-4ead-b2ef-bcbc2967d8d5"
      },
      "execution_count": null,
      "outputs": [
        {
          "output_type": "display_data",
          "data": {
            "text/plain": [
              "<Figure size 640x480 with 1 Axes>"
            ],
            "image/png": "[encoded data removed]"
          },
          "metadata": {}
        }
      ]
    },
    {
      "cell_type": "markdown",
      "source": [
        "* Box Plot pour la variable X1 (le carat) :"
      ],
      "metadata": {
        "id": "p518GGW4ZD-5"
      }
    },
    {
      "cell_type": "code",
      "source": [
        "sns.boxplot(x=dataframe['carat'])\n",
        "plt.xlabel('Poids en carats')\n",
        "plt.show()"
      ],
      "metadata": {
        "colab": {
          "base_uri": "https://localhost:8080/",
          "height": 449
        },
        "id": "VDyLNNy2ZPMI",
        "outputId": "eccb1c6e-7537-4551-f5bb-d446bd0521f3"
      },
      "execution_count": null,
      "outputs": [
        {
          "output_type": "display_data",
          "data": {
            "text/plain": [
              "<Figure size 640x480 with 1 Axes>"
            ],
            "image/png": "[encoded data removed]"
          },
          "metadata": {}
        }
      ]
    },
    {
      "cell_type": "markdown",
      "source": [
        "* Tableau des statistiques descriptives pour la variable X1 (carat) :"
      ],
      "metadata": {
        "id": "wjumhKFWcQ0g"
      }
    },
    {
      "cell_type": "code",
      "source": [
        "price_mean = np.mean(dataframe['carat'])\n",
        "price_std = np.std(dataframe['carat'], ddof=1)\n",
        "price_se = price_std / np.sqrt(len(dataframe['carat']))\n",
        "price_ci = 1.96 * price_se\n",
        "\n",
        "price_q1 = np.quantile(dataframe['carat'], 0.25)\n",
        "price_q2 = np.quantile(dataframe['carat'], 0.50)\n",
        "price_q3 = np.quantile(dataframe['carat'], 0.75)\n",
        "\n",
        "print('Statistiques descriptives pour le carat du diamant :')\n",
        "print('Moyenne :', round(price_mean, 2))\n",
        "print('Intervalle de confiance pour la moyenne : [{:.2f}, {:.2f}]'.format(price_mean - price_ci, price_mean + price_ci))\n",
        "print('Écart type :', round(price_std, 2))\n",
        "print('Erreur type :', round(price_se, 2))\n",
        "print('Q1 :', price_q1)\n",
        "print('Q2 (médiane) :', price_q2)\n",
        "print('Q3 :', price_q3)"
      ],
      "metadata": {
        "colab": {
          "base_uri": "https://localhost:8080/"
        },
        "id": "npeDCsYGZfC5",
        "outputId": "3e9edf63-8f20-49a3-be90-754e33b8b2fa"
      },
      "execution_count": null,
      "outputs": [
        {
          "output_type": "stream",
          "name": "stdout",
          "text": [
            "Statistiques descriptives pour le carat du diamant :\n",
            "Moyenne : 0.8\n",
            "Intervalle de confiance pour la moyenne : [0.74, 0.87]\n",
            "Écart type : 0.49\n",
            "Erreur type : 0.03\n",
            "Q1 : 0.3975\n",
            "Q2 (médiane) : 0.7\n",
            "Q3 : 1.0825\n"
          ]
        }
      ]
    },
    {
      "cell_type": "markdown",
      "source": [
        "* Histogramme pour la variable X2 (le depth):"
      ],
      "metadata": {
        "id": "FRAoHxQUb4G4"
      }
    },
    {
      "cell_type": "code",
      "source": [
        "plt.hist(dataframe['depth'], bins=20)\n",
        "plt.xlabel('Poids en depth')\n",
        "plt.ylabel('Nombre de diamants')\n",
        "plt.show()"
      ],
      "metadata": {
        "colab": {
          "base_uri": "https://localhost:8080/",
          "height": 449
        },
        "id": "_nHkNKDqaa7w",
        "outputId": "e51105c9-009c-4414-c2ac-38a5adc4e738"
      },
      "execution_count": null,
      "outputs": [
        {
          "output_type": "display_data",
          "data": {
            "text/plain": [
              "<Figure size 640x480 with 1 Axes>"
            ],
            "image/png": "[encoded data removed]"
          },
          "metadata": {}
        }
      ]
    },
    {
      "cell_type": "markdown",
      "source": [
        "* Box Plot pour la variable X2 (le depth) :"
      ],
      "metadata": {
        "id": "Ech88ufxcFw7"
      }
    },
    {
      "cell_type": "code",
      "source": [
        "sns.boxplot(x=dataframe['depth'])\n",
        "plt.xlabel('Poids en depth')\n",
        "plt.show()"
      ],
      "metadata": {
        "colab": {
          "base_uri": "https://localhost:8080/",
          "height": 449
        },
        "id": "VxJ5DVHKcIjY",
        "outputId": "cb2c8da7-3fd7-4068-d75e-d6e7377ac5b4"
      },
      "execution_count": null,
      "outputs": [
        {
          "output_type": "display_data",
          "data": {
            "text/plain": [
              "<Figure size 640x480 with 1 Axes>"
            ],
            "image/png": "[encoded data removed]"
          },
          "metadata": {}
        }
      ]
    },
    {
      "cell_type": "markdown",
      "source": [
        "* Tableau des statistiques descriptives pour la variable X2 (depth) :"
      ],
      "metadata": {
        "id": "SuCKQsi2cTzR"
      }
    },
    {
      "cell_type": "code",
      "source": [
        "price_mean = np.mean(dataframe['depth'])\n",
        "price_std = np.std(dataframe['depth'], ddof=1)\n",
        "price_se = price_std / np.sqrt(len(dataframe['depth']))\n",
        "price_ci = 1.96 * price_se\n",
        "\n",
        "price_q1 = np.quantile(dataframe['depth'], 0.25)\n",
        "price_q2 = np.quantile(dataframe['depth'], 0.50)\n",
        "price_q3 = np.quantile(dataframe['depth'], 0.75)\n",
        "\n",
        "print('Statistiques descriptives pour le depth du diamant :')\n",
        "print('Moyenne :', round(price_mean, 2))\n",
        "print('Intervalle de confiance pour la moyenne : [{:.2f}, {:.2f}]'.format(price_mean - price_ci, price_mean + price_ci))\n",
        "print('Écart type :', round(price_std, 2))\n",
        "print('Erreur type :', round(price_se, 2))\n",
        "print('Q1 :', price_q1)\n",
        "print('Q2 (médiane) :', price_q2)\n",
        "print('Q3 :', price_q3)"
      ],
      "metadata": {
        "colab": {
          "base_uri": "https://localhost:8080/"
        },
        "id": "wlmaapqNcYeA",
        "outputId": "42b3d83d-6ae1-40d3-8888-2ac92deb4ab2"
      },
      "execution_count": null,
      "outputs": [
        {
          "output_type": "stream",
          "name": "stdout",
          "text": [
            "Statistiques descriptives pour le depth du diamant :\n",
            "Moyenne : 61.75\n",
            "Intervalle de confiance pour la moyenne : [61.58, 61.93]\n",
            "Écart type : 1.3\n",
            "Erreur type : 0.09\n",
            "Q1 : 61.0\n",
            "Q2 (médiane) : 61.9\n",
            "Q3 : 62.5\n"
          ]
        }
      ]
    },
    {
      "cell_type": "markdown",
      "source": [
        "## Descente du gradient"
      ],
      "metadata": {
        "id": "ccQVCcjvdFTf"
      }
    },
    {
      "cell_type": "markdown",
      "source": [
        "On s'intéresse dans cette phase à la détermination d'un modèle permettant d'expliquer le prix d'un dimant en fonction des differentes variables de l'étude"
      ],
      "metadata": {
        "id": "oLnWR2I4jDDi"
      }
    },
    {
      "cell_type": "markdown",
      "source": [
        "1) On considére le modèle suivant :\n",
        "\n",
        "```\n",
        "Y = w1*X1 + w2*X2 + w3\n",
        "```\n",
        "ou w1, w2 sont des paramétres et w3 est appelé biais.\n"
      ],
      "metadata": {
        "id": "pL61YG49rGYw"
      }
    },
    {
      "cell_type": "markdown",
      "source": [
        "Voici comment utiliser la fonction de perte Erreur quadratique moyenne (MSE) pour le modèle Y = w1X1 + w2X2 + w3 avec PyTorch en Python :"
      ],
      "metadata": {
        "id": "ecv6tSSJwhUg"
      }
    },
    {
      "cell_type": "code",
      "source": [
        "inputs_array, targets_array, carrat_array, depth_array\n",
        "plt.plot(carrat_array,targets_array,'o')\n",
        "plt.xlabel('carrat')\n",
        "plt.ylabel('prix')\n",
        "plt.show()"
      ],
      "metadata": {
        "id": "NNOREKgZ49Td",
        "colab": {
          "base_uri": "https://localhost:8080/",
          "height": 449
        },
        "outputId": "0b9beaad-cd88-4a71-f266-6f92e3ff9b39"
      },
      "execution_count": null,
      "outputs": [
        {
          "output_type": "display_data",
          "data": {
            "text/plain": [
              "<Figure size 640x480 with 1 Axes>"
            ],
            "image/png": "[encoded data removed]"
          },
          "metadata": {}
        }
      ]
    },
    {
      "cell_type": "code",
      "source": [
        "# methode 1 pour créer les variables\n",
        "carrat_array_norm = (carrat_array - np.mean(carrat_array)) / np.std(carrat_array)\n",
        "depth_array_norm = (depth_array - np.mean(depth_array)) / np.std(depth_array)\n",
        "m = np.column_stack((carrat_array_norm,depth_array_norm))"
      ],
      "metadata": {
        "id": "a7FF4AFtSS3P"
      },
      "execution_count": null,
      "outputs": []
    },
    {
      "cell_type": "code",
      "source": [
        "m_train, m_test, y_train, y_test = train_test_split(m, targets_array, test_size=1./3, random_state=1)\n",
        "carrat_train = m_train[:,0]\n",
        "carrat_test = m_test[:,1]\n",
        "depth_test = m_test[:,0]"
      ],
      "metadata": {
        "id": "0BcmhjcmAXJ4"
      },
      "execution_count": null,
      "outputs": []
    },
    {
      "cell_type": "code",
      "source": [
        "# methode 2 pour créer les variables\n",
        "X = dataframe1[['carat', 'depth']].values\n",
        "X = (X - np.mean(X)) / np.std(X)\n",
        "Y = dataframe1['price'].values\n",
        "Y = (Y - np.mean(Y)) / np.std(Y)"
      ],
      "metadata": {
        "id": "oQAI9gVkZxHu"
      },
      "execution_count": null,
      "outputs": []
    },
    {
      "cell_type": "code",
      "source": [
        "X = torch.tensor(X,dtype=torch.float32)\n",
        "Y = torch.tensor(Y,dtype=torch.float32)"
      ],
      "metadata": {
        "id": "tvdBcsvkaTeW"
      },
      "execution_count": null,
      "outputs": []
    },
    {
      "cell_type": "code",
      "source": [
        "X_train, X_test, y_train, y_test = train_test_split(X, Y, test_size=1./3, random_state=1)"
      ],
      "metadata": {
        "id": "nqNcmEbOb2Wd"
      },
      "execution_count": null,
      "outputs": []
    },
    {
      "cell_type": "code",
      "source": [
        "y_traaaa = y_train.reshape((146,1))"
      ],
      "metadata": {
        "id": "c5GwJZmFMC9T"
      },
      "execution_count": null,
      "outputs": []
    },
    {
      "cell_type": "code",
      "source": [
        "train_ds = TensorDataset(X_train, y_train)\n",
        "batch_size = 1\n",
        "train_dl = DataLoader(train_ds, batch_size, shuffle=True)"
      ],
      "metadata": {
        "id": "zc9l31O7iVrf"
      },
      "execution_count": null,
      "outputs": []
    },
    {
      "cell_type": "code",
      "source": [
        "learning_rate = 0.01\n",
        "num_epochs = 200\n",
        "log_epochs = 10\n",
        "loss_hist = [0] * num_epochs\n",
        "\n",
        "model=nn.Linear(2,1)\n",
        "loss_fn = nn.MSELoss(reduction='mean')\n",
        "optimizer = torch.optim.SGD(model.parameters(), lr=learning_rate)"
      ],
      "metadata": {
        "id": "VjxG4orragzH"
      },
      "execution_count": null,
      "outputs": []
    },
    {
      "cell_type": "code",
      "source": [
        "for epoch in range(num_epochs):\n",
        "  t_pred = model(X_train)\n",
        "  loss = loss_fn(t_pred.squeeze(), y_train)\n",
        "  optimizer.zero_grad()\n",
        "  loss_hist[epoch] += loss.item()\n",
        "  loss.backward()\n",
        "  optimizer.step()\n",
        "  if epoch % log_epochs ==0:\n",
        "    print(f\"Epoch {epoch}, Loss {loss.item():.4f}\")"
      ],
      "metadata": {
        "colab": {
          "base_uri": "https://localhost:8080/"
        },
        "id": "ZjSVeyhca9q4",
        "outputId": "2f38ebbe-a1b0-477d-9d4f-96b011620705"
      },
      "execution_count": null,
      "outputs": [
        {
          "output_type": "stream",
          "name": "stdout",
          "text": [
            "Epoch 0, Loss 1.4242\n",
            "Epoch 10, Loss 1.0885\n",
            "Epoch 20, Loss 0.9909\n",
            "Epoch 30, Loss 0.9624\n",
            "Epoch 40, Loss 0.9541\n",
            "Epoch 50, Loss 0.9516\n",
            "Epoch 60, Loss 0.9509\n",
            "Epoch 70, Loss 0.9506\n",
            "Epoch 80, Loss 0.9504\n",
            "Epoch 90, Loss 0.9503\n",
            "Epoch 100, Loss 0.9502\n",
            "Epoch 110, Loss 0.9501\n",
            "Epoch 120, Loss 0.9500\n",
            "Epoch 130, Loss 0.9500\n",
            "Epoch 140, Loss 0.9499\n",
            "Epoch 150, Loss 0.9498\n",
            "Epoch 160, Loss 0.9497\n",
            "Epoch 170, Loss 0.9496\n",
            "Epoch 180, Loss 0.9495\n",
            "Epoch 190, Loss 0.9494\n"
          ]
        }
      ]
    },
    {
      "cell_type": "markdown",
      "source": [
        "2) On considére le second modèle qui est un perceptron multi-couches :\n",
        "\n",
        "$Y(w) = \\sigma(w_1.X_1 + w_2.X_2 + w_3)$\n",
        "\n",
        "ou w1, w2, w3 sont des paramétres et segma est la fonction sigmoid.\n",
        "On prend comme fonction perte, la fonction MSE(w)\n",
        "\n"
      ],
      "metadata": {
        "id": "ouqxG_-TiymI"
      }
    },
    {
      "cell_type": "code",
      "source": [
        "class perceptron(torch.nn.Module):\n",
        "    def __init__(self):\n",
        "        super(perceptron, self).__init__()\n",
        "        self.linear = torch.nn.Linear(2, 1)\n",
        "\n",
        "    def forward(self, x):\n",
        "        x = torch.sigmoid(self.linear(x))\n",
        "        return x"
      ],
      "metadata": {
        "id": "xCjIPYwgkgmo"
      },
      "execution_count": null,
      "outputs": []
    },
    {
      "cell_type": "code",
      "source": [
        "# define the MSE loss function\n",
        "loss_fn = nn.MSELoss(reduction='mean')\n",
        "\n",
        "learning_rate = 0.01\n",
        "num_epochs = 200\n",
        "log_epochs = 10\n",
        "\n",
        "# create an instance of the model\n",
        "model = perceptron()\n",
        "\n",
        "# define the optimizer\n",
        "optimizer = torch.optim.SGD(model.parameters(), lr=learning_rate)"
      ],
      "metadata": {
        "id": "Kxk7CIzMkiyI"
      },
      "execution_count": null,
      "outputs": []
    },
    {
      "cell_type": "code",
      "source": [
        "# train the model\n",
        "for epoch in range(num_epochs):\n",
        "  for x_batch, y_batch in train_dl:\n",
        "\n",
        "    # zero the gradients\n",
        "    optimizer.zero_grad()\n",
        "\n",
        "    # forward pass\n",
        "    pred = model(x_batch)\n",
        "\n",
        "    # calculate the loss\n",
        "    loss = loss_fn(pred, y_batch.unsqueeze(1))\n",
        "\n",
        "    # backward pass\n",
        "    loss.backward()\n",
        "\n",
        "    optimizer.step()\n",
        "\n",
        "print(\"Final loss: \", loss.item())"
      ],
      "metadata": {
        "id": "Kq4Vy6MxdHzx",
        "colab": {
          "base_uri": "https://localhost:8080/"
        },
        "outputId": "7b822d29-a593-47b4-bd41-f86c0cb86d66"
      },
      "execution_count": null,
      "outputs": [
        {
          "output_type": "stream",
          "name": "stdout",
          "text": [
            "Final loss:  1.7708675861358643\n"
          ]
        }
      ]
    },
    {
      "cell_type": "markdown",
      "source": [
        "3) On souhaite comparer entre diverses méthodes d'optimisation."
      ],
      "metadata": {
        "id": "Xw2oGb9Ws3Xo"
      }
    },
    {
      "cell_type": "markdown",
      "source": [
        "a) On définit la fonction de cout MSE et ses dérivées partielles pour calculer le gradient"
      ],
      "metadata": {
        "id": "er9EpQuJk7-z"
      }
    },
    {
      "cell_type": "code",
      "source": [
        "def MSE_function(X, Y, w):\n",
        "  pred = torch.matmul(X,w)\n",
        "  errors = pred-Y\n",
        "  cost = torch.sum(errors ** 2) / (2*len(X))\n",
        "  gradients = torch.matmul(torch.transpose(X,0,1), errors) / len(X)\n",
        "  return cost, gradients"
      ],
      "metadata": {
        "id": "-d3xmWArjVS2"
      },
      "execution_count": null,
      "outputs": []
    },
    {
      "cell_type": "markdown",
      "source": [
        "Puis on définit la méthode de descente de gradient, qui cherche a rend une valeur approché de w telle que gradients(MSE(w))=0, pour cela on considère la suite suivante:\n",
        "```\n",
        "w(n+1) = w(n) - p*gradients(MSE(w(n))\n",
        "```\n",
        "ou w(0) est donnée aléatoirement, n le nombre d'iterations et p pas de descente (learning_rate)\n"
      ],
      "metadata": {
        "id": "uN6qoVSd3W3u"
      }
    },
    {
      "cell_type": "code",
      "source": [
        "def gradient_descent(X, Y, learning_rate, num_iterations):\n",
        "  w = torch.randn(X.shape[1], 1)\n",
        "  costs = []\n",
        "  for i in range(num_iterations):\n",
        "    cost, gradients = MSE_function(X,Y,w)\n",
        "    w -= learning_rate*gradients\n",
        "    costs.append(cost)\n",
        "  return w, costs"
      ],
      "metadata": {
        "id": "jv26AAZ5jYYC"
      },
      "execution_count": null,
      "outputs": []
    },
    {
      "cell_type": "markdown",
      "source": [
        "Maintenant, on va tester différents valeurs de taux d'apprentissage"
      ],
      "metadata": {
        "id": "dwM3FrmI6oaD"
      }
    },
    {
      "cell_type": "code",
      "source": [
        "learning_rates = [0.001, 0.01, 0.1, 0.4]\n",
        "num_iterations = 500\n",
        "fig = plt.figure(figsize=(12, 5))\n",
        "ax = fig.add_subplot(1, 2, 1)\n",
        "for j in learning_rates:\n",
        "  weights, costs = gradient_descent(X_train, y_traaaa, j, num_iterations)\n",
        "  plt.plot(costs, label=str(j))\n",
        "ax.set_xlabel(\"Iterations\")\n",
        "ax.set_ylabel(\"Cost\")\n",
        "plt.legend()\n",
        "plt.show()\n"
      ],
      "metadata": {
        "colab": {
          "base_uri": "https://localhost:8080/",
          "height": 465
        },
        "id": "3E3A-iSR7k1x",
        "outputId": "1f0e182c-f308-4f56-8e39-a44eb4bc7a92"
      },
      "execution_count": null,
      "outputs": [
        {
          "output_type": "display_data",
          "data": {
            "text/plain": [
              "<Figure size 1200x500 with 1 Axes>"
            ],
            "image/png": "[encoded data removed]"
          },
          "metadata": {}
        }
      ]
    },
    {
      "cell_type": "markdown",
      "source": [
        "b) Par la méthode de descente à pas optimal"
      ],
      "metadata": {
        "id": "YBz9WCf2h5ub"
      }
    },
    {
      "cell_type": "code",
      "source": [
        "def optimal_step_descent(X,y,num_iterations):\n",
        "  w = torch.randn(X.shape[1],1)\n",
        "  costs=[]\n",
        "  for i in range(num_iterations):\n",
        "    alpha = torch.matmul(torch.matmul(torch.inverse(torch.matmul(torch.transpose(X,0,1), X)), torch.transpose(X,0,1)), y)\n",
        "    cost, gradients = MSE_function(X,y,w)\n",
        "    w-=alpha * gradients\n",
        "    costs.append(cost)\n",
        "  return w, costs"
      ],
      "metadata": {
        "id": "9Ac-pm5Qh7O3"
      },
      "execution_count": null,
      "outputs": []
    },
    {
      "cell_type": "markdown",
      "source": [
        "c) Utilise la méthode de descente du gradient stochastique afin d'am\u0013eliorer la performance de l'apprentissage du modèle."
      ],
      "metadata": {
        "id": "Qum2m4agoBgb"
      }
    },
    {
      "cell_type": "code",
      "source": [
        "def stochastic_gradient_descent(X,y, learning_rate, num_iterations):\n",
        "  w = torch.randn(X.shape[1],1)\n",
        "  costs = []\n",
        "  for i in range(num_iterations):\n",
        "    cost_total = 0\n",
        "    for j in range(len(X)):\n",
        "      rand_index = np.random.randint(len(X))\n",
        "      X_j = X[rand_index].unsqueeze(0)\n",
        "      y_j = y[rand_index].unsqueeze(0)\n",
        "      cost, gradients = MSE_function(X_j,y_j,w)\n",
        "      w -= learning_rate*gradients\n",
        "      cost_total += cost\n",
        "    costs.append(cost_total / len(X))\n",
        "  return w, costs"
      ],
      "metadata": {
        "id": "_S7ss1EPlkcu"
      },
      "execution_count": null,
      "outputs": []
    },
    {
      "cell_type": "code",
      "source": [
        "fig = plt.figure(figsize=(12, 5))\n",
        "ax = fig.add_subplot(1, 2, 1)\n",
        "weights2, costs2 = stochastic_gradient_descent(X_train, y_traaaa, 0.01, 10)\n",
        "plt.plot(costs2, lw=1, label=\"descente du gradient stochastique\")\n",
        "ax.set_xlabel(\"Iterations\")\n",
        "ax.set_ylabel(\"Perte\")\n",
        "plt.legend()\n",
        "plt.show()"
      ],
      "metadata": {
        "colab": {
          "base_uri": "https://localhost:8080/",
          "height": 465
        },
        "id": "xLaxyKNgJEYQ",
        "outputId": "79270439-eefa-4cdd-9532-ea65b8ebcf5f"
      },
      "execution_count": null,
      "outputs": [
        {
          "output_type": "display_data",
          "data": {
            "text/plain": [
              "<Figure size 1200x500 with 1 Axes>"
            ],
            "image/png": "[encoded data removed]"
          },
          "metadata": {}
        }
      ]
    }
  ]
}